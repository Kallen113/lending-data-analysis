{
 "cells": [
  {
   "cell_type": "markdown",
   "metadata": {},
   "source": [
    "## In this notebook, we will import the data we've cleaned from the lending_data_load_and_transform.py script.\n",
    "\n",
    "## Using the cleaned data, we will perform various data visualizations and examine the data for trends and various relatnioships between the various dimensions and factors. I will denote these relationships using Markdown text and do some scatter plots and regression analysis as well to confirm some of these relationships among the data."
   ]
  },
  {
   "cell_type": "code",
   "execution_count": 1,
   "metadata": {},
   "outputs": [
    {
     "name": "stderr",
     "output_type": "stream",
     "text": [
      "d:\\Coding and Code projects\\Python\\craigslist_data_proj\\CraigslistWebScraper\\craigslist_venv\\lib\\site-packages\\ipykernel_launcher.py:29: FutureWarning: The pandas.np module is deprecated and will be removed from pandas in a future version. Import numpy directly instead\n",
      "d:\\Coding and Code projects\\Python\\craigslist_data_proj\\CraigslistWebScraper\\craigslist_venv\\lib\\site-packages\\ipykernel_launcher.py:30: FutureWarning: The pandas.np module is deprecated and will be removed from pandas in a future version. Import numpy directly instead\n",
      "d:\\Coding and Code projects\\Python\\craigslist_data_proj\\CraigslistWebScraper\\craigslist_venv\\lib\\site-packages\\ipykernel_launcher.py:31: FutureWarning: The pandas.np module is deprecated and will be removed from pandas in a future version. Import numpy directly instead\n",
      "d:\\Coding and Code projects\\Python\\craigslist_data_proj\\CraigslistWebScraper\\craigslist_venv\\lib\\site-packages\\ipykernel_launcher.py:32: FutureWarning: The pandas.np module is deprecated and will be removed from pandas in a future version. Import numpy directly instead\n",
      "d:\\Coding and Code projects\\Python\\craigslist_data_proj\\CraigslistWebScraper\\craigslist_venv\\lib\\site-packages\\ipykernel_launcher.py:40: FutureWarning: The pandas.np module is deprecated and will be removed from pandas in a future version. Import numpy directly instead\n",
      "d:\\Coding and Code projects\\Python\\craigslist_data_proj\\CraigslistWebScraper\\craigslist_venv\\lib\\site-packages\\IPython\\core\\interactiveshell.py:3377: DtypeWarning: Columns (19) have mixed types.Specify dtype option on import or set low_memory=False.\n",
      "  if (await self.run_code(code, result,  async_=asy)):\n",
      "d:\\Coding and Code projects\\Python\\craigslist_data_proj\\CraigslistWebScraper\\craigslist_venv\\lib\\site-packages\\IPython\\core\\interactiveshell.py:3377: DtypeWarning: Columns (19,44) have mixed types.Specify dtype option on import or set low_memory=False.\n",
      "  if (await self.run_code(code, result,  async_=asy)):\n"
     ]
    },
    {
     "data": {
      "text/html": [
       "<div>\n",
       "<style scoped>\n",
       "    .dataframe tbody tr th:only-of-type {\n",
       "        vertical-align: middle;\n",
       "    }\n",
       "\n",
       "    .dataframe tbody tr th {\n",
       "        vertical-align: top;\n",
       "    }\n",
       "\n",
       "    .dataframe thead th {\n",
       "        text-align: right;\n",
       "    }\n",
       "</style>\n",
       "<table border=\"1\" class=\"dataframe\">\n",
       "  <thead>\n",
       "    <tr style=\"text-align: right;\">\n",
       "      <th></th>\n",
       "      <th>id</th>\n",
       "      <th>loan_amnt</th>\n",
       "      <th>funded_amnt</th>\n",
       "      <th>funded_amnt_inv</th>\n",
       "      <th>term</th>\n",
       "      <th>int_rate</th>\n",
       "      <th>installment</th>\n",
       "      <th>grade</th>\n",
       "      <th>sub_grade</th>\n",
       "      <th>emp_title</th>\n",
       "      <th>...</th>\n",
       "      <th>policy_code</th>\n",
       "      <th>application_type</th>\n",
       "      <th>annual_inc_joint</th>\n",
       "      <th>dti_joint</th>\n",
       "      <th>verification_status_joint</th>\n",
       "      <th>acc_now_delinq</th>\n",
       "      <th>chargeoff_within_12_mths</th>\n",
       "      <th>delinq_amnt</th>\n",
       "      <th>disbursement_method</th>\n",
       "      <th>debt_settlement_flag</th>\n",
       "    </tr>\n",
       "  </thead>\n",
       "  <tbody>\n",
       "    <tr>\n",
       "      <th>0</th>\n",
       "      <td>13693</td>\n",
       "      <td>5000.0</td>\n",
       "      <td>5000.0</td>\n",
       "      <td>5000.0</td>\n",
       "      <td>36 months</td>\n",
       "      <td>20.39</td>\n",
       "      <td>186.82</td>\n",
       "      <td>D</td>\n",
       "      <td>D4</td>\n",
       "      <td>General Manager</td>\n",
       "      <td>...</td>\n",
       "      <td>1.0</td>\n",
       "      <td>Individual</td>\n",
       "      <td>NaN</td>\n",
       "      <td>NaN</td>\n",
       "      <td>NaN</td>\n",
       "      <td>0</td>\n",
       "      <td>1.0</td>\n",
       "      <td>0.0</td>\n",
       "      <td>Cash</td>\n",
       "      <td>N</td>\n",
       "    </tr>\n",
       "    <tr>\n",
       "      <th>1</th>\n",
       "      <td>23769</td>\n",
       "      <td>15000.0</td>\n",
       "      <td>15000.0</td>\n",
       "      <td>15000.0</td>\n",
       "      <td>36 months</td>\n",
       "      <td>9.92</td>\n",
       "      <td>483.45</td>\n",
       "      <td>B</td>\n",
       "      <td>B2</td>\n",
       "      <td>IT Director</td>\n",
       "      <td>...</td>\n",
       "      <td>1.0</td>\n",
       "      <td>Individual</td>\n",
       "      <td>NaN</td>\n",
       "      <td>NaN</td>\n",
       "      <td>NaN</td>\n",
       "      <td>0</td>\n",
       "      <td>0.0</td>\n",
       "      <td>0.0</td>\n",
       "      <td>Cash</td>\n",
       "      <td>N</td>\n",
       "    </tr>\n",
       "    <tr>\n",
       "      <th>2</th>\n",
       "      <td>14398</td>\n",
       "      <td>11200.0</td>\n",
       "      <td>11200.0</td>\n",
       "      <td>11200.0</td>\n",
       "      <td>60 months</td>\n",
       "      <td>30.79</td>\n",
       "      <td>367.82</td>\n",
       "      <td>G</td>\n",
       "      <td>G1</td>\n",
       "      <td>Client services</td>\n",
       "      <td>...</td>\n",
       "      <td>1.0</td>\n",
       "      <td>Joint App</td>\n",
       "      <td>81000.0</td>\n",
       "      <td>31.94</td>\n",
       "      <td>Not Verified</td>\n",
       "      <td>0</td>\n",
       "      <td>0.0</td>\n",
       "      <td>0.0</td>\n",
       "      <td>Cash</td>\n",
       "      <td>N</td>\n",
       "    </tr>\n",
       "    <tr>\n",
       "      <th>3</th>\n",
       "      <td>21876</td>\n",
       "      <td>25000.0</td>\n",
       "      <td>25000.0</td>\n",
       "      <td>25000.0</td>\n",
       "      <td>60 months</td>\n",
       "      <td>21.85</td>\n",
       "      <td>688.35</td>\n",
       "      <td>D</td>\n",
       "      <td>D5</td>\n",
       "      <td>Asphalt Supervisor</td>\n",
       "      <td>...</td>\n",
       "      <td>1.0</td>\n",
       "      <td>Individual</td>\n",
       "      <td>NaN</td>\n",
       "      <td>NaN</td>\n",
       "      <td>NaN</td>\n",
       "      <td>0</td>\n",
       "      <td>0.0</td>\n",
       "      <td>0.0</td>\n",
       "      <td>Cash</td>\n",
       "      <td>N</td>\n",
       "    </tr>\n",
       "    <tr>\n",
       "      <th>4</th>\n",
       "      <td>15138</td>\n",
       "      <td>3000.0</td>\n",
       "      <td>3000.0</td>\n",
       "      <td>3000.0</td>\n",
       "      <td>36 months</td>\n",
       "      <td>7.34</td>\n",
       "      <td>93.10</td>\n",
       "      <td>A</td>\n",
       "      <td>A4</td>\n",
       "      <td>Scale Technician</td>\n",
       "      <td>...</td>\n",
       "      <td>1.0</td>\n",
       "      <td>Individual</td>\n",
       "      <td>NaN</td>\n",
       "      <td>NaN</td>\n",
       "      <td>NaN</td>\n",
       "      <td>0</td>\n",
       "      <td>0.0</td>\n",
       "      <td>0.0</td>\n",
       "      <td>Cash</td>\n",
       "      <td>N</td>\n",
       "    </tr>\n",
       "  </tbody>\n",
       "</table>\n",
       "<p>5 rows × 49 columns</p>\n",
       "</div>"
      ],
      "text/plain": [
       "      id  loan_amnt  funded_amnt  funded_amnt_inv        term  int_rate  \\\n",
       "0  13693     5000.0       5000.0           5000.0   36 months     20.39   \n",
       "1  23769    15000.0      15000.0          15000.0   36 months      9.92   \n",
       "2  14398    11200.0      11200.0          11200.0   60 months     30.79   \n",
       "3  21876    25000.0      25000.0          25000.0   60 months     21.85   \n",
       "4  15138     3000.0       3000.0           3000.0   36 months      7.34   \n",
       "\n",
       "   installment grade sub_grade           emp_title  ... policy_code  \\\n",
       "0       186.82     D        D4     General Manager  ...         1.0   \n",
       "1       483.45     B        B2        IT Director   ...         1.0   \n",
       "2       367.82     G        G1    Client services   ...         1.0   \n",
       "3       688.35     D        D5  Asphalt Supervisor  ...         1.0   \n",
       "4        93.10     A        A4    Scale Technician  ...         1.0   \n",
       "\n",
       "  application_type  annual_inc_joint dti_joint verification_status_joint  \\\n",
       "0       Individual               NaN       NaN                       NaN   \n",
       "1       Individual               NaN       NaN                       NaN   \n",
       "2        Joint App           81000.0     31.94              Not Verified   \n",
       "3       Individual               NaN       NaN                       NaN   \n",
       "4       Individual               NaN       NaN                       NaN   \n",
       "\n",
       "  acc_now_delinq chargeoff_within_12_mths delinq_amnt disbursement_method  \\\n",
       "0              0                      1.0         0.0                Cash   \n",
       "1              0                      0.0         0.0                Cash   \n",
       "2              0                      0.0         0.0                Cash   \n",
       "3              0                      0.0         0.0                Cash   \n",
       "4              0                      0.0         0.0                Cash   \n",
       "\n",
       "  debt_settlement_flag  \n",
       "0                    N  \n",
       "1                    N  \n",
       "2                    N  \n",
       "3                    N  \n",
       "4                    N  \n",
       "\n",
       "[5 rows x 49 columns]"
      ]
     },
     "execution_count": 1,
     "metadata": {},
     "output_type": "execute_result"
    }
   ],
   "source": [
    "import pandas as pd\n",
    "import numpy as np\n",
    "\n",
    "from datetime import datetime\n",
    "\n",
    "import matplotlib\n",
    "\n",
    "import seaborn as sns\n",
    "\n",
    "import gc\n",
    "\n",
    "import random\n",
    "\n",
    "import statsmodels.api as sm\n",
    "\n",
    "import statsmodels.formula.api as smf\n",
    "\n",
    "# specify name of cSV file\n",
    "lending_data_csv_file_name = 'approved_data_2016_2018.csv'\n",
    "\n",
    "\n",
    "# initialize empty df to concatenate and store each of the data chunks after importing\n",
    "df = pd.DataFrame()\n",
    "\n",
    "# define chunk size\n",
    "chunksize = 100000\n",
    "\n",
    "# set data types for columns that we know will match (int, category, etc.), to save on file load times\n",
    "dtypes = {'id':pd.np.int16,\n",
    "          'pub_rec':pd.np.int8,\n",
    "          'fico_range_high':pd.np.int32,\n",
    "          'fico_range_hlow':pd.np.int8,\n",
    "          'loan_status':'category',\n",
    "          'grade':'category',\n",
    "          'home_ownership':'category',\n",
    "          'acc_now_delinq':'category',\n",
    "          'sub_grade':'category',\n",
    "          'application_type':'category',\n",
    "\n",
    "          'acc_now_delinq':pd.np.int8\n",
    "          }\n",
    "\n",
    "for chunk in pd.read_csv(lending_data_csv_file_name, \n",
    "                         chunksize=chunksize, \n",
    "                         dtype = dtypes,\n",
    "                         # use only first 50 columns and skip 1st (0th) column since it is unnamed and skip last n columns since they are mostly null and seemingly irrelevant\n",
    "                         usecols=range(1,50)):\n",
    "    df = pd.concat([df, chunk], ignore_index=True)\n",
    "    # delete each chunk after conatenating the data to the df dataframe\n",
    "    del chunk; gc.collect()\n",
    "\n",
    "df.head()\n",
    "    "
   ]
  },
  {
   "cell_type": "markdown",
   "metadata": {},
   "source": [
    "## What are the various loan_status categories--which ones would consistute Good vs Bad performance loans?\n",
    "\n",
    "## NB: see Lending Club's definitions of these categories: <https://www.lendingclub.com/help/investing-faq/what-do-the-different-note-statuses-mean>\n",
    "### Examine loan status categories and counts distribution--using .value_counts()--so we can see "
   ]
  },
  {
   "cell_type": "code",
   "execution_count": 2,
   "metadata": {},
   "outputs": [
    {
     "name": "stdout",
     "output_type": "stream",
     "text": [
      "Loan Status categories counts (distributions) of the loans data:\n",
      "Current               823093\n",
      "Fully Paid            402449\n",
      "Charged Off           116257\n",
      "Late (31-120 days)     19771\n",
      "In Grace Period         7623\n",
      "Late (16-30 days)       3997\n",
      "Default                   38\n",
      "Name: loan_status, dtype: int64\n"
     ]
    }
   ],
   "source": [
    "# show value counts distribution of loan status categories\n",
    "print(f\"Loan Status categories counts (distributions) of the loans data:\\n{df['loan_status'].value_counts()}\")"
   ]
  },
  {
   "cell_type": "markdown",
   "metadata": {},
   "source": [
    "## Notice there are 7 loan status categories.\n",
    "\n",
    "## Per the Lending Club descriptions, only 2 categories can reasonably constitute good performance loans: \"Current\" and \"Fully Paid Off\"\n",
    "\n",
    "## The other 5 categories comprise \"Bad\" performance loans, albeit to differing degrees"
   ]
  },
  {
   "cell_type": "markdown",
   "metadata": {},
   "source": [
    "## Next, let's examine the distibutions, categories, and/or ranges for a few borrower-related columns that might correlate with and impact loan performance to some extent:\n",
    "\n",
    "### Employment length (in years):"
   ]
  },
  {
   "cell_type": "code",
   "execution_count": 4,
   "metadata": {},
   "outputs": [
    {
     "name": "stdout",
     "output_type": "stream",
     "text": [
      "Employment length value counts:\n"
     ]
    },
    {
     "data": {
      "text/plain": [
       "10+ years    456411\n",
       "2 years      124804\n",
       "< 1 year     119380\n",
       "3 years      110725\n",
       "1 year        91308\n",
       "4 years       84075\n",
       "5 years       83989\n",
       "6 years       59676\n",
       "7 years       48096\n",
       "8 years       47957\n",
       "9 years       44735\n",
       "Name: emp_length, dtype: int64"
      ]
     },
     "execution_count": 4,
     "metadata": {},
     "output_type": "execute_result"
    }
   ],
   "source": [
    "print(f\"Employment length value counts:\")\n",
    "df.emp_length.value_counts()"
   ]
  },
  {
   "cell_type": "markdown",
   "metadata": {},
   "source": [
    "## Check the dataset for which 'delinquent'  metrics are in this dataset:"
   ]
  },
  {
   "cell_type": "code",
   "execution_count": 5,
   "metadata": {},
   "outputs": [
    {
     "name": "stdout",
     "output_type": "stream",
     "text": [
      "Columns in the dataset that contain the substring 'delinq',\n",
      "referring to delinquent account metrics:\n"
     ]
    },
    {
     "data": {
      "text/plain": [
       "['delinq_2yrs', 'mths_since_last_delinq', 'acc_now_delinq', 'delinq_amnt']"
      ]
     },
     "execution_count": 5,
     "metadata": {},
     "output_type": "execute_result"
    }
   ],
   "source": [
    "# check if any columns exist in the dataset with column name containing the substring 'delinq'\n",
    "print(\"Columns in the dataset that contain the substring 'delinq',\\nreferring to delinquent account metrics:\")\n",
    "[col for col in df.columns if 'delinq' in col]"
   ]
  },
  {
   "cell_type": "markdown",
   "metadata": {},
   "source": [
    "## Show distribution by loan grades--ie, the letter grades assigned by LC, in which A grades are supposed to be the highest grades, followed by B, C, with the lowest graded loans classified as F and G:"
   ]
  },
  {
   "cell_type": "code",
   "execution_count": 9,
   "metadata": {},
   "outputs": [
    {
     "name": "stdout",
     "output_type": "stream",
     "text": [
      "Distribution of data by loan grades:\n"
     ]
    },
    {
     "data": {
      "text/plain": [
       "B    409004\n",
       "C    404172\n",
       "A    284820\n",
       "D    184870\n",
       "E     64932\n",
       "F     18751\n",
       "G      6679\n",
       "Name: grade, dtype: int64"
      ]
     },
     "execution_count": 9,
     "metadata": {},
     "output_type": "execute_result"
    }
   ],
   "source": [
    "#\n",
    "print(\"Distribution of data by loan grades:\")\n",
    "df['grade'].value_counts()"
   ]
  },
  {
   "cell_type": "markdown",
   "metadata": {},
   "source": [
    "## Check value counts for the delinq_2_yrs: ie, the number of delinquent accounts (per consumer) over the past 2 years:"
   ]
  },
  {
   "cell_type": "code",
   "execution_count": 7,
   "metadata": {},
   "outputs": [
    {
     "name": "stdout",
     "output_type": "stream",
     "text": [
      "Value counts of the number of delinquent accounts (per consumer) over the past 2 years\n"
     ]
    },
    {
     "data": {
      "text/plain": [
       "0.0     1122097\n",
       "1.0      168122\n",
       "2.0       47736\n",
       "3.0       17563\n",
       "4.0        7852\n",
       "5.0        3888\n",
       "6.0        2246\n",
       "7.0        1278\n",
       "8.0         762\n",
       "9.0         534\n",
       "10.0        364\n",
       "11.0        242\n",
       "12.0        174\n",
       "13.0        101\n",
       "14.0         75\n",
       "15.0         59\n",
       "16.0         38\n",
       "17.0         20\n",
       "18.0         19\n",
       "20.0         15\n",
       "19.0         15\n",
       "21.0         10\n",
       "24.0          3\n",
       "22.0          2\n",
       "25.0          2\n",
       "23.0          2\n",
       "30.0          1\n",
       "26.0          1\n",
       "36.0          1\n",
       "58.0          1\n",
       "42.0          1\n",
       "35.0          1\n",
       "32.0          1\n",
       "28.0          1\n",
       "29.0          1\n",
       "Name: delinq_2yrs, dtype: int64"
      ]
     },
     "execution_count": 7,
     "metadata": {},
     "output_type": "execute_result"
    }
   ],
   "source": [
    "\n",
    "print(\"Value counts of the number of delinquent accounts (per consumer) over the past 2 years\")\n",
    "df.delinq_2yrs.value_counts()"
   ]
  },
  {
   "cell_type": "markdown",
   "metadata": {},
   "source": [
    "## Check for income columns in the dataset, and show value counts for one of them:"
   ]
  },
  {
   "cell_type": "code",
   "execution_count": 31,
   "metadata": {},
   "outputs": [
    {
     "data": {
      "text/plain": [
       "['annual_inc',\n",
       " 'mths_since_last_delinq',\n",
       " 'mths_since_last_record',\n",
       " 'annual_inc_joint']"
      ]
     },
     "execution_count": 31,
     "metadata": {},
     "output_type": "execute_result"
    }
   ],
   "source": [
    "# check if any columns exist in the dataset with column name containing the substring 'inc'\n",
    "[col for col in df.columns if 'inc' in col]\n"
   ]
  },
  {
   "cell_type": "code",
   "execution_count": 37,
   "metadata": {},
   "outputs": [
    {
     "name": "stdout",
     "output_type": "stream",
     "text": [
      "Annual income distribution:\n",
      "\n",
      "60000.0     52906\n",
      "50000.0     45776\n",
      "65000.0     39403\n",
      "70000.0     37957\n",
      "80000.0     37103\n",
      "            ...  \n",
      "42922.0         1\n",
      "43087.0         1\n",
      "101448.0        1\n",
      "158715.0        1\n",
      "180792.0        1\n",
      "Name: annual_inc, Length: 63131, dtype: int64\n"
     ]
    }
   ],
   "source": [
    "# show annual income value counts:\n",
    "print(f\"Annual income distribution:\\n\\n{df['annual_inc'].value_counts()}\")"
   ]
  },
  {
   "cell_type": "code",
   "execution_count": 33,
   "metadata": {},
   "outputs": [
    {
     "name": "stdout",
     "output_type": "stream",
     "text": [
      "Term of loan (ie, length of loan):\n",
      " 36 months    988585\n",
      " 60 months    384643\n",
      "Name: term, dtype: int64\n"
     ]
    }
   ],
   "source": [
    "# distribution of loans by length of loan (term):\n",
    "print(f\"Term of loan (ie, length of loan):\\n{df['term'].value_counts()}\")"
   ]
  },
  {
   "cell_type": "code",
   "execution_count": 24,
   "metadata": {},
   "outputs": [
    {
     "data": {
      "text/plain": [
       "9.0     115469\n",
       "8.0     112132\n",
       "10.0    111413\n",
       "7.0     104930\n",
       "11.0    102831\n",
       "         ...  \n",
       "81.0         1\n",
       "77.0         1\n",
       "91.0         1\n",
       "93.0         1\n",
       "97.0         1\n",
       "Name: open_acc, Length: 88, dtype: int64"
      ]
     },
     "execution_count": 24,
     "metadata": {},
     "output_type": "execute_result"
    }
   ],
   "source": [
    "df['open_acc'].value_counts()"
   ]
  },
  {
   "cell_type": "markdown",
   "metadata": {},
   "source": [
    "## Show the distribution by loan title and purposes--ie, what the given loan was used to pay for:"
   ]
  },
  {
   "cell_type": "code",
   "execution_count": 28,
   "metadata": {},
   "outputs": [
    {
     "data": {
      "text/plain": [
       "Debt consolidation           739286\n",
       "Credit card refinancing      305358\n",
       "Home improvement              97324\n",
       "Other                         95822\n",
       "Major purchase                32789\n",
       "Medical expenses              18714\n",
       "Car financing                 14961\n",
       "Business                      14076\n",
       "Vacation                      10638\n",
       "Home buying                   10349\n",
       "Moving and relocation          9879\n",
       "Green loan                      857\n",
       "Credit Card Consolidation         1\n",
       "Learning and training             1\n",
       "Name: title, dtype: int64"
      ]
     },
     "execution_count": 28,
     "metadata": {},
     "output_type": "execute_result"
    }
   ],
   "source": [
    "df['title'].value_counts()"
   ]
  },
  {
   "cell_type": "code",
   "execution_count": 29,
   "metadata": {},
   "outputs": [
    {
     "data": {
      "text/plain": [
       "debt_consolidation    753624\n",
       "credit_card           310777\n",
       "home_improvement       98623\n",
       "other                  96544\n",
       "major_purchase         33168\n",
       "medical                18947\n",
       "car                    15149\n",
       "small_business         14311\n",
       "vacation               10789\n",
       "house                  10429\n",
       "moving                  9988\n",
       "renewable_energy         870\n",
       "wedding                    8\n",
       "educational                1\n",
       "Name: purpose, dtype: int64"
      ]
     },
     "execution_count": 29,
     "metadata": {},
     "output_type": "execute_result"
    }
   ],
   "source": [
    "df['purpose'].value_counts()"
   ]
  },
  {
   "cell_type": "code",
   "execution_count": null,
   "metadata": {},
   "outputs": [],
   "source": [
    "##"
   ]
  },
  {
   "cell_type": "markdown",
   "metadata": {},
   "source": [
    "### Data transformations: \n",
    "\n",
    "### Create a loan performance categorical column that will be \"Good\" for good loan status categories, and \"Bad\" to denote bad loan status categoties such as \"Charged off\" using np.select()\n",
    "\n",
    "### Then, create indicator variables based on the loan performance categories to denote loan performance numerically: "
   ]
  },
  {
   "cell_type": "code",
   "execution_count": 8,
   "metadata": {},
   "outputs": [
    {
     "ename": "MemoryError",
     "evalue": "Unable to allocate 168. MiB for an array with shape (1373228,) and data type <U32",
     "output_type": "error",
     "traceback": [
      "\u001b[1;31m---------------------------------------------------------------------------\u001b[0m",
      "\u001b[1;31mMemoryError\u001b[0m                               Traceback (most recent call last)",
      "\u001b[1;32mC:\\Users\\KEVINA~1\\AppData\\Local\\Temp/ipykernel_11432/2551085336.py\u001b[0m in \u001b[0;36m<module>\u001b[1;34m\u001b[0m\n\u001b[0;32m     22\u001b[0m \u001b[1;33m\u001b[0m\u001b[0m\n\u001b[0;32m     23\u001b[0m \u001b[1;31m# craete loan_performance categorical column\u001b[0m\u001b[1;33m\u001b[0m\u001b[1;33m\u001b[0m\u001b[1;33m\u001b[0m\u001b[0m\n\u001b[1;32m---> 24\u001b[1;33m \u001b[0mdf\u001b[0m\u001b[1;33m[\u001b[0m\u001b[1;34m'loan_performance'\u001b[0m\u001b[1;33m]\u001b[0m \u001b[1;33m=\u001b[0m \u001b[0mcreate_loan_performance_caterigcal_col\u001b[0m\u001b[1;33m(\u001b[0m\u001b[0mdf\u001b[0m\u001b[1;33m,\u001b[0m \u001b[1;34m'loan_status'\u001b[0m\u001b[1;33m)\u001b[0m\u001b[1;33m\u001b[0m\u001b[1;33m\u001b[0m\u001b[0m\n\u001b[0m\u001b[0;32m     25\u001b[0m \u001b[1;33m\u001b[0m\u001b[0m\n\u001b[0;32m     26\u001b[0m \u001b[1;31m# sanity check\u001b[0m\u001b[1;33m\u001b[0m\u001b[1;33m\u001b[0m\u001b[1;33m\u001b[0m\u001b[0m\n",
      "\u001b[1;32mC:\\Users\\KEVINA~1\\AppData\\Local\\Temp/ipykernel_11432/2551085336.py\u001b[0m in \u001b[0;36mcreate_loan_performance_caterigcal_col\u001b[1;34m(df, col)\u001b[0m\n\u001b[0;32m     17\u001b[0m     return np.select(condlist  = conditions,\n\u001b[0;32m     18\u001b[0m                      \u001b[0mchoicelist\u001b[0m\u001b[1;33m=\u001b[0m\u001b[0mchoicelist\u001b[0m\u001b[1;33m,\u001b[0m\u001b[1;33m\u001b[0m\u001b[1;33m\u001b[0m\u001b[0m\n\u001b[1;32m---> 19\u001b[1;33m                      \u001b[0mdefault\u001b[0m \u001b[1;33m=\u001b[0m \u001b[0mnp\u001b[0m\u001b[1;33m.\u001b[0m\u001b[0mnan\u001b[0m\u001b[1;33m\u001b[0m\u001b[1;33m\u001b[0m\u001b[0m\n\u001b[0m\u001b[0;32m     20\u001b[0m     )\n\u001b[0;32m     21\u001b[0m \u001b[1;33m\u001b[0m\u001b[0m\n",
      "\u001b[1;32m<__array_function__ internals>\u001b[0m in \u001b[0;36mselect\u001b[1;34m(*args, **kwargs)\u001b[0m\n",
      "\u001b[1;32md:\\Coding and Code projects\\Python\\craigslist_data_proj\\CraigslistWebScraper\\craigslist_venv\\lib\\site-packages\\numpy\\lib\\function_base.py\u001b[0m in \u001b[0;36mselect\u001b[1;34m(condlist, choicelist, default)\u001b[0m\n\u001b[0;32m    707\u001b[0m         \u001b[0mresult_shape\u001b[0m \u001b[1;33m=\u001b[0m \u001b[0mnp\u001b[0m\u001b[1;33m.\u001b[0m\u001b[0mbroadcast_arrays\u001b[0m\u001b[1;33m(\u001b[0m\u001b[0mcondlist\u001b[0m\u001b[1;33m[\u001b[0m\u001b[1;36m0\u001b[0m\u001b[1;33m]\u001b[0m\u001b[1;33m,\u001b[0m \u001b[0mchoicelist\u001b[0m\u001b[1;33m[\u001b[0m\u001b[1;36m0\u001b[0m\u001b[1;33m]\u001b[0m\u001b[1;33m)\u001b[0m\u001b[1;33m[\u001b[0m\u001b[1;36m0\u001b[0m\u001b[1;33m]\u001b[0m\u001b[1;33m.\u001b[0m\u001b[0mshape\u001b[0m\u001b[1;33m\u001b[0m\u001b[1;33m\u001b[0m\u001b[0m\n\u001b[0;32m    708\u001b[0m \u001b[1;33m\u001b[0m\u001b[0m\n\u001b[1;32m--> 709\u001b[1;33m     \u001b[0mresult\u001b[0m \u001b[1;33m=\u001b[0m \u001b[0mnp\u001b[0m\u001b[1;33m.\u001b[0m\u001b[0mfull\u001b[0m\u001b[1;33m(\u001b[0m\u001b[0mresult_shape\u001b[0m\u001b[1;33m,\u001b[0m \u001b[0mchoicelist\u001b[0m\u001b[1;33m[\u001b[0m\u001b[1;33m-\u001b[0m\u001b[1;36m1\u001b[0m\u001b[1;33m]\u001b[0m\u001b[1;33m,\u001b[0m \u001b[0mdtype\u001b[0m\u001b[1;33m)\u001b[0m\u001b[1;33m\u001b[0m\u001b[1;33m\u001b[0m\u001b[0m\n\u001b[0m\u001b[0;32m    710\u001b[0m \u001b[1;33m\u001b[0m\u001b[0m\n\u001b[0;32m    711\u001b[0m     \u001b[1;31m# Use np.copyto to burn each choicelist array onto result, using the\u001b[0m\u001b[1;33m\u001b[0m\u001b[1;33m\u001b[0m\u001b[1;33m\u001b[0m\u001b[0m\n",
      "\u001b[1;32md:\\Coding and Code projects\\Python\\craigslist_data_proj\\CraigslistWebScraper\\craigslist_venv\\lib\\site-packages\\numpy\\core\\numeric.py\u001b[0m in \u001b[0;36mfull\u001b[1;34m(shape, fill_value, dtype, order, like)\u001b[0m\n\u001b[0;32m    341\u001b[0m         \u001b[0mfill_value\u001b[0m \u001b[1;33m=\u001b[0m \u001b[0masarray\u001b[0m\u001b[1;33m(\u001b[0m\u001b[0mfill_value\u001b[0m\u001b[1;33m)\u001b[0m\u001b[1;33m\u001b[0m\u001b[1;33m\u001b[0m\u001b[0m\n\u001b[0;32m    342\u001b[0m         \u001b[0mdtype\u001b[0m \u001b[1;33m=\u001b[0m \u001b[0mfill_value\u001b[0m\u001b[1;33m.\u001b[0m\u001b[0mdtype\u001b[0m\u001b[1;33m\u001b[0m\u001b[1;33m\u001b[0m\u001b[0m\n\u001b[1;32m--> 343\u001b[1;33m     \u001b[0ma\u001b[0m \u001b[1;33m=\u001b[0m \u001b[0mempty\u001b[0m\u001b[1;33m(\u001b[0m\u001b[0mshape\u001b[0m\u001b[1;33m,\u001b[0m \u001b[0mdtype\u001b[0m\u001b[1;33m,\u001b[0m \u001b[0morder\u001b[0m\u001b[1;33m)\u001b[0m\u001b[1;33m\u001b[0m\u001b[1;33m\u001b[0m\u001b[0m\n\u001b[0m\u001b[0;32m    344\u001b[0m     \u001b[0mmultiarray\u001b[0m\u001b[1;33m.\u001b[0m\u001b[0mcopyto\u001b[0m\u001b[1;33m(\u001b[0m\u001b[0ma\u001b[0m\u001b[1;33m,\u001b[0m \u001b[0mfill_value\u001b[0m\u001b[1;33m,\u001b[0m \u001b[0mcasting\u001b[0m\u001b[1;33m=\u001b[0m\u001b[1;34m'unsafe'\u001b[0m\u001b[1;33m)\u001b[0m\u001b[1;33m\u001b[0m\u001b[1;33m\u001b[0m\u001b[0m\n\u001b[0;32m    345\u001b[0m     \u001b[1;32mreturn\u001b[0m \u001b[0ma\u001b[0m\u001b[1;33m\u001b[0m\u001b[1;33m\u001b[0m\u001b[0m\n",
      "\u001b[1;31mMemoryError\u001b[0m: Unable to allocate 168. MiB for an array with shape (1373228,) and data type <U32"
     ]
    }
   ],
   "source": [
    "## create a loan performance categorical column\n",
    "import numpy as np\n",
    "def create_loan_performance_caterigcal_col(df, col):\n",
    "    # specify the various conditions for np.selecT() aking to a SQL CASE WHERE statement's arguments\n",
    "    conditions  = [ df[col] ==\"Current\", \n",
    "                   df[col]== \"Fully paid\",\n",
    "                   df[col]== \"In Grace Period\",\n",
    "                   df[col]== \"Late (16-30 days)\",\n",
    "                   df[col]== \"Late (31-120 days)\",\n",
    "                   df[col]== \"Default\",\n",
    "                   df[col]== \"Charged off\",\n",
    "                   ]\n",
    "    # specify the possible outcomes--in this case, \"Good\" for good loan performance, and \"Bad\" for bad performance\n",
    "    choicelist  = [ \"Good\", 'Good', \"Bad\", \"Bad\", \"Bad\", \"Bad\", \"Bad\"]\n",
    "    \n",
    "    # return new categorical column using the specified conditions, choicelist arguments, and a separate default option as numpy NaNs in case any rows in the column do not match any of the specified conditions \n",
    "    return np.select(condlist  = conditions,\n",
    "                     choicelist=choicelist,\n",
    "                     default = np.nan\n",
    "    )\n",
    "\n",
    "\n",
    "# craete loan_performance categorical column\n",
    "df['loan_performance'] = create_loan_performance_caterigcal_col(df, 'loan_status')\n",
    "\n",
    "# sanity check\n",
    "print(f\"Sanity check on the loan performance categorical col:\\n{df['loan_performance'].value_counts()}\")"
   ]
  },
  {
   "cell_type": "code",
   "execution_count": null,
   "metadata": {},
   "outputs": [],
   "source": [
    "# create funciton based on get_dummies() method and specify the column name as its prefix\n",
    "def get_indicator_vars(df, col):\n",
    "    return pd.get_dummies(df[col], prefix=col)\n",
    "\n",
    "\n",
    "# create indicator variables of loan performance (status as  Good vs Bad) using np.select()\n",
    "get_indicator_vars(df, 'loan_performance')"
   ]
  },
  {
   "cell_type": "code",
   "execution_count": null,
   "metadata": {},
   "outputs": [],
   "source": [
    "# next, create LC Loan Grade indicator variables\n",
    "get_indicator_vars(df, 'grade')"
   ]
  },
  {
   "cell_type": "code",
   "execution_count": null,
   "metadata": {},
   "outputs": [],
   "source": [
    "# next, create employment length indicators\n",
    "get_indicator_vars('emp_length')"
   ]
  },
  {
   "cell_type": "code",
   "execution_count": null,
   "metadata": {},
   "outputs": [],
   "source": [
    "# next, create home ownership indicators\n",
    "get_indicator_vars('home_ownership')"
   ]
  },
  {
   "cell_type": "markdown",
   "metadata": {},
   "source": [
    "### Next, let's run a quick logit regression analysis:\n",
    "\n",
    "#### Outcome variable is the \"Good\" loan performance indicator variable--ie, 1's represent \"Good\" loan performance, 0's represent \"Bad\" performance\n",
    " \n",
    "#### Explanatory variables will include the following: a) the full set of loan grade indicators, excepting loan grade \"C\" as a reference group; b) employment length indicators, excepting \"5 years\" as a reference group; c) int_rate; d) home_ownership  indicators, excepting \"Owner\" as a reference group; e)revol_util; f) dti; \n"
   ]
  },
  {
   "cell_type": "code",
   "execution_count": null,
   "metadata": {},
   "outputs": [],
   "source": []
  },
  {
   "cell_type": "markdown",
   "metadata": {},
   "source": [
    "## Examining trends in the loan data\n",
    "\n",
    "###  NB: There are a few basic considerations regarding the dataset structure before examining trends: \n",
    "\n",
    "### a) The id column is q unique column that refeers to the ID for a loan listing. Since each ID is unique, we can refer to this column to track loan volume over time. \n",
    "\n",
    "### Also: b) issue_d is the relevant datetime column of interest here since this reflects the date on which the loan was originally funded. The dates in this dataset range from Januar 2016 to December 2018."
   ]
  },
  {
   "cell_type": "code",
   "execution_count": null,
   "metadata": {},
   "outputs": [],
   "source": []
  },
  {
   "cell_type": "code",
   "execution_count": null,
   "metadata": {},
   "outputs": [],
   "source": [
    "# boxplot of loan data by year and month\n"
   ]
  },
  {
   "cell_type": "code",
   "execution_count": null,
   "metadata": {},
   "outputs": [],
   "source": [
    "# calculate summary statistics by year\n",
    "\n",
    "# split dataset by year\n",
    "\n",
    "\n",
    "# summary stats by year\n",
    "df['loan_data'].describe()"
   ]
  },
  {
   "cell_type": "code",
   "execution_count": null,
   "metadata": {},
   "outputs": [],
   "source": [
    "# # examine for seasonality in loan origination\n"
   ]
  },
  {
   "cell_type": "code",
   "execution_count": null,
   "metadata": {},
   "outputs": [],
   "source": [
    "## loan data by "
   ]
  },
  {
   "cell_type": "markdown",
   "metadata": {},
   "source": [
    "### Examining trends in loan data\n",
    "\n",
    "#### Interpretation & Analysis:\n"
   ]
  },
  {
   "cell_type": "markdown",
   "metadata": {},
   "source": [
    "## Examining Loan grade in terms of loan performnance\n",
    "\n",
    "## The metric of interest to convey loan performance is given by loan_status. This column has 1 of 2 outcomes: good or bad loan, respectively.\n",
    "\n",
    "## So to examine whether there is a relationship between loan performance and loan status, we can examine a scatterplot of these 2 columns. \n",
    "\n",
    "## But first, let's examine the overall distribution of the loan data in terms of loan status (performance):"
   ]
  },
  {
   "cell_type": "code",
   "execution_count": null,
   "metadata": {},
   "outputs": [],
   "source": [
    "# distribution of the data by loan status\n",
    "\n",
    "# histogram "
   ]
  },
  {
   "cell_type": "code",
   "execution_count": null,
   "metadata": {},
   "outputs": [],
   "source": [
    "# What metric do we use to measure loan performance?\n",
    "\n",
    "# use loan_status since this reflects whether a loan has been fully paid off, is current, or is late or charged off (defaulted) in some way"
   ]
  },
  {
   "cell_type": "code",
   "execution_count": null,
   "metadata": {},
   "outputs": [],
   "source": []
  },
  {
   "cell_type": "code",
   "execution_count": null,
   "metadata": {},
   "outputs": [],
   "source": [
    "# group the data by loan grade category, and then compare summary stats by loan performance\n",
    "\n",
    "df_loan_grade = df.groupby('loan_grade')\n",
    "\n",
    "print(f\"Summary statistics by loan grade:\\n\\n{df_loan_grade.describe()}\")"
   ]
  },
  {
   "cell_type": "code",
   "execution_count": null,
   "metadata": {},
   "outputs": [],
   "source": [
    "# scatter plot of loan grade vs loan performance\n",
    "\n",
    "def seaborn_scatterplot(y_var, x_var, hue):\n",
    "    return sns.\n",
    "\n",
    "\n",
    "y_var, x_var = 'loan_status', 'loan_grade' \n",
    "\n",
    "seaborn_scatterplot()\n"
   ]
  },
  {
   "cell_type": "code",
   "execution_count": null,
   "metadata": {},
   "outputs": [],
   "source": [
    "# let's also examine sub_grade vs loan_status-- sub_grade includes sub categories of each grade--e.g., A1, A2, A3 for grade  A, etc.\n",
    "\n"
   ]
  },
  {
   "cell_type": "code",
   "execution_count": null,
   "metadata": {},
   "outputs": [],
   "source": [
    "# regression analysis of loan grade vs loan performance"
   ]
  },
  {
   "cell_type": "code",
   "execution_count": null,
   "metadata": {},
   "outputs": [],
   "source": []
  },
  {
   "cell_type": "markdown",
   "metadata": {},
   "source": [
    "## Examine what other factors seem to affect loan peformance "
   ]
  },
  {
   "cell_type": "markdown",
   "metadata": {},
   "source": [
    "## Plot correlation coefficient matrix to examine the extent to which different factors are correlated with loan performance\n",
    "\n"
   ]
  },
  {
   "cell_type": "code",
   "execution_count": null,
   "metadata": {},
   "outputs": [],
   "source": [
    "# examine fico_range_low and fico_range_high, respectively compared with loan_status\n",
    "\n",
    "# rico_range_low vs loan_status scatter plot"
   ]
  },
  {
   "cell_type": "code",
   "execution_count": null,
   "metadata": {},
   "outputs": [],
   "source": [
    "# scatter plot of  home_ownership vs loan_status"
   ]
  },
  {
   "cell_type": "code",
   "execution_count": null,
   "metadata": {},
   "outputs": [],
   "source": [
    "# scatter plot of emp_length vs loan_status\n"
   ]
  },
  {
   "cell_type": "code",
   "execution_count": null,
   "metadata": {},
   "outputs": [],
   "source": [
    "# scatter plot of installment vs loan_status\n"
   ]
  },
  {
   "cell_type": "code",
   "execution_count": null,
   "metadata": {},
   "outputs": [],
   "source": [
    "# trends in pymnt_plan over time"
   ]
  },
  {
   "cell_type": "code",
   "execution_count": null,
   "metadata": {},
   "outputs": [],
   "source": [
    "# scattter plot of  purpose vs loan status\n"
   ]
  },
  {
   "cell_type": "code",
   "execution_count": null,
   "metadata": {},
   "outputs": [],
   "source": [
    "# scattter plot of \ttitle vs loan status"
   ]
  },
  {
   "cell_type": "code",
   "execution_count": null,
   "metadata": {},
   "outputs": [],
   "source": [
    "#   scattter plot of \tdelinq_amnt vs loan status\n",
    "\n",
    "# NB: a priori, we expect higher delinquincy amounts should be negatively correlated with loan peformance--ie, higher extent of 'Bad' loan status\n"
   ]
  },
  {
   "cell_type": "code",
   "execution_count": null,
   "metadata": {},
   "outputs": [],
   "source": [
    "## plot of verification_status vs loan status\n",
    "\n",
    "\n",
    "\n"
   ]
  },
  {
   "cell_type": "code",
   "execution_count": null,
   "metadata": {},
   "outputs": [],
   "source": [
    "## plot of verified_status_joint vs loan status\n"
   ]
  },
  {
   "cell_type": "code",
   "execution_count": null,
   "metadata": {},
   "outputs": [],
   "source": [
    "# scatter plot of annual_inc vs loan status\n"
   ]
  },
  {
   "cell_type": "code",
   "execution_count": null,
   "metadata": {},
   "outputs": [],
   "source": [
    "# scatter plot of individual vs joint loan payers vs loan status"
   ]
  },
  {
   "cell_type": "markdown",
   "metadata": {},
   "source": [
    "### Examine any other trends or important characteristics of the data\n",
    "\n"
   ]
  },
  {
   "cell_type": "code",
   "execution_count": null,
   "metadata": {},
   "outputs": [],
   "source": [
    "### Taking note of summary statistics and characteristics of the loans data\n",
    "\n",
    "### Distribution of loans data by loan purpose (i.e., what the loan was used to pay for)\n",
    "df['purpose'].value_counts()\n"
   ]
  },
  {
   "cell_type": "code",
   "execution_count": null,
   "metadata": {},
   "outputs": [],
   "source": [
    "# distribution of data by loan_amnt--ie, dollar value of the loan when originally applied for\n",
    "\n",
    "df['loan_amnt'].value_counts()\n"
   ]
  },
  {
   "cell_type": "code",
   "execution_count": null,
   "metadata": {},
   "outputs": [],
   "source": [
    "# distribution of data by loan_amnt\n",
    "\n",
    "df['purpose'].value_counts()\n"
   ]
  },
  {
   "cell_type": "code",
   "execution_count": null,
   "metadata": {},
   "outputs": [],
   "source": [
    "# distribution of data by addr_state--ie, the state the borrower applied from\n",
    "df['addr_state'].value_counts()"
   ]
  },
  {
   "cell_type": "code",
   "execution_count": null,
   "metadata": {},
   "outputs": [],
   "source": [
    "# distribution of data by int_rate\n",
    "df['int_rate'].value_counts()"
   ]
  },
  {
   "cell_type": "code",
   "execution_count": null,
   "metadata": {},
   "outputs": [],
   "source": [
    "# int_rate trends over time\n",
    "\n",
    "# lineplot of int_rate\n",
    "lineplot()\n",
    "df['int_rate']"
   ]
  },
  {
   "cell_type": "code",
   "execution_count": null,
   "metadata": {},
   "outputs": [],
   "source": [
    "# finally, let's examine the distribution of interest rates by loan status to see whether interest rates do differ in that respect\n",
    "\n",
    "# we can ecompare these distributions by taking boxplots and using loan status as a hue:\n",
    "\n",
    "def boxplot_with_hue(df, col_for_boxplot, hue_col):\n",
    "    return sns.boxplot()\n",
    "\n",
    "\n",
    "\n",
    "boxplot_with_hue(df, 'int_rate', 'laon_status')\n"
   ]
  },
  {
   "cell_type": "code",
   "execution_count": null,
   "metadata": {},
   "outputs": [],
   "source": []
  },
  {
   "cell_type": "markdown",
   "metadata": {},
   "source": [
    "## Logit regression analysis:"
   ]
  },
  {
   "cell_type": "code",
   "execution_count": null,
   "metadata": {},
   "outputs": [],
   "source": [
    " \n",
    "# defining the outcome and independent variables \n",
    "Xtrain = df[[ 'grade_A', 'grade_B', 'grade_C', 'grade_D', 'grade_E', 'grade_F', 'grade_G' ]] \n",
    "# use Good loan performance indicator column as outcome var\n",
    "ytrain = df[['loan_performance_Good']] \n",
    "\n",
    "# building the model and fitting the data \n",
    "logit_reg = sm.Logit(ytrain, Xtrain).fit() "
   ]
  },
  {
   "cell_type": "code",
   "execution_count": null,
   "metadata": {},
   "outputs": [],
   "source": [
    "# show logit regression results\n",
    "print(logit_reg.summary()) "
   ]
  },
  {
   "cell_type": "code",
   "execution_count": null,
   "metadata": {},
   "outputs": [],
   "source": []
  },
  {
   "cell_type": "code",
   "execution_count": null,
   "metadata": {},
   "outputs": [],
   "source": []
  }
 ],
 "metadata": {
  "kernelspec": {
   "display_name": "craigslist_venv",
   "language": "python",
   "name": "python3"
  },
  "language_info": {
   "codemirror_mode": {
    "name": "ipython",
    "version": 3
   },
   "file_extension": ".py",
   "mimetype": "text/x-python",
   "name": "python",
   "nbconvert_exporter": "python",
   "pygments_lexer": "ipython3",
   "version": "3.7.1"
  }
 },
 "nbformat": 4,
 "nbformat_minor": 2
}
